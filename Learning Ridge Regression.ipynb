{
 "cells": [
  {
   "cell_type": "markdown",
   "metadata": {},
   "source": [
    "# Ridge Regression"
   ]
  },
  {
   "cell_type": "markdown",
   "metadata": {
    "heading_collapsed": true
   },
   "source": [
    "## Viés"
   ]
  },
  {
   "cell_type": "markdown",
   "metadata": {
    "hidden": true
   },
   "source": [
    "O termo *viés* não é a interceptação em y, mas a extensão em que o modelo falha em apresentar um gráfico que se aproxime das amostras. \n",
    "\n",
    "Por exemplo, a linha anterior tem um viés alto, uma vez que falha em capturar a tendência nos dados."
   ]
  },
  {
   "cell_type": "markdown",
   "metadata": {
    "hidden": true
   },
   "source": [
    "![alt text](biased_plot.png)"
   ]
  },
  {
   "cell_type": "markdown",
   "metadata": {
    "hidden": true
   },
   "source": [
    "Por outro lado, a proxima linha tem um viés relativamente baixo. Se tivéssemos que medir o erro quadrático médio, ele seria muito menor em comparação com o exemplo anterior."
   ]
  },
  {
   "cell_type": "markdown",
   "metadata": {
    "hidden": true
   },
   "source": [
    "![alt text](low_biased_plot.png)"
   ]
  },
  {
   "cell_type": "markdown",
   "metadata": {
    "heading_collapsed": true
   },
   "source": [
    "## Variância"
   ]
  },
  {
   "cell_type": "markdown",
   "metadata": {
    "hidden": true
   },
   "source": [
    "Em contraste com a definição estatística, a variância não se refere à disseminação dos dados em relação à média. \n",
    "\n",
    "Em vez disso, ele caracteriza a diferença de ajustes entre os conjuntos de dados. Em outras palavras, ele mede como a precisão de um modelo muda quando apresentado com um conjunto de dados diferente. \n",
    "\n",
    "Por exemplo, a linha irregular na imagem a seguir tem um desempenho radicalmente diferente em outros conjuntos de dados. Portanto, dizemos que tem uma alta variância."
   ]
  },
  {
   "cell_type": "markdown",
   "metadata": {
    "hidden": true
   },
   "source": [
    "![alt text](high_variance_plot.png)"
   ]
  },
  {
   "cell_type": "markdown",
   "metadata": {
    "hidden": true
   },
   "source": [
    "Por outro lado, a linha reta tem uma variação relativamente baixa porque o erro quadrático médio é semelhante para conjuntos de dados diferentes."
   ]
  },
  {
   "cell_type": "markdown",
   "metadata": {
    "hidden": true
   },
   "source": [
    "![alt text](low_variance_plot.png)"
   ]
  },
  {
   "cell_type": "markdown",
   "metadata": {},
   "source": [
    "## Modelo"
   ]
  },
  {
   "cell_type": "markdown",
   "metadata": {},
   "source": [
    "A Ridge Regression é quase idêntica à Linear Regression, exceto que introduzimos uma pequena quantidade de viés. Em troca desse viés, obtemos uma queda significativa na variância. Em outras palavras, começando com um ajuste um pouco pior, o Ridge Regression tem um desempenho melhor em relação aos dados que não seguem exatamente o mesmo padrão dos dados nos quais o modelo foi treinado.\n",
    "\n",
    "O viés de adição é frequentemente referido como regularização. Como o nome indica, a regularização é usada para desenvolver um modelo que se destaca na previsão de destinos para dados que seguem um padrão regular em vez de específico. Dito de outra forma, o objetivo da regularização é evitar overfitting. O sobreajuste tende a ocorrer quando usamos um polinômio de grau mais alto do que o necessário para modelar os dados."
   ]
  },
  {
   "cell_type": "markdown",
   "metadata": {},
   "source": [
    "![alt text](regularizating.png)"
   ]
  },
  {
   "cell_type": "markdown",
   "metadata": {},
   "source": [
    "Para contornar esse problema, introduzimos um termo de regularização para a função de perda. Na regressão de Ridge, a função de perda é a função de mínimos quadrados lineares e a regularização é dada pela [norma-L2](https://link.springer.com/referenceworkentry/10.1007%2F978-0-387-73003-5_1070#:~:text=L2%20norm%20is%20a%20standard,the%20values%20in%20each%20dimension.)."
   ]
  },
  {
   "cell_type": "markdown",
   "metadata": {},
   "source": [
    "![alt text](sum.png)"
   ]
  },
  {
   "cell_type": "markdown",
   "metadata": {},
   "source": [
    "Como estamos tentando minimizar a função de perda e **w** está incluído na soma residual dos quadrados, o modelo será forçado a encontrar um equilíbrio entre minimizar a soma residual dos quadrados e minimizar os coeficientes."
   ]
  },
  {
   "cell_type": "markdown",
   "metadata": {},
   "source": [
    "![alt text](sum2.png)"
   ]
  },
  {
   "cell_type": "markdown",
   "metadata": {},
   "source": [
    "Para um polinômio de alto grau, os coeficientes das variáveis de ordem superior tenderão para 0 se os dados subjacentes puderem ser aproximados com um polinômio de baixo grau."
   ]
  },
  {
   "cell_type": "markdown",
   "metadata": {},
   "source": [
    "![alt text](plot.png)"
   ]
  },
  {
   "cell_type": "markdown",
   "metadata": {},
   "source": [
    "Se definirmos o hiperparâmetro alfa para algum número grande, ao tentar encontrar o valor mínimo para a função de custo, o modelo definirá os coeficientes como 0. Em outras palavras, a linha de regressão terá uma inclinação de 0."
   ]
  },
  {
   "cell_type": "markdown",
   "metadata": {},
   "source": [
    "![alt text](alpha.png)"
   ]
  },
  {
   "cell_type": "markdown",
   "metadata": {
    "heading_collapsed": true
   },
   "source": [
    "## Algorítimo"
   ]
  },
  {
   "cell_type": "markdown",
   "metadata": {
    "hidden": true
   },
   "source": [
    "Para encontrar os coeficientes dado o termo de regularização adicionado, Pegamos a função de custo, fazemos um pouco de álgebra, pegamos a derivada parcial em relação a **w** (o vetor dos coeficientes), tornamos igual a 0 e então resolvemos para **w**."
   ]
  },
  {
   "cell_type": "markdown",
   "metadata": {
    "hidden": true
   },
   "source": [
    "![alt text](form1.png)"
   ]
  },
  {
   "cell_type": "markdown",
   "metadata": {
    "hidden": true
   },
   "source": [
    "![alt text](form2.png)"
   ]
  },
  {
   "cell_type": "markdown",
   "metadata": {
    "hidden": true
   },
   "source": [
    "![alt text](form3.png)"
   ]
  },
  {
   "cell_type": "markdown",
   "metadata": {},
   "source": [
    "## Código"
   ]
  },
  {
   "cell_type": "markdown",
   "metadata": {},
   "source": [
    "Bibliotecas necessárias para rodar o modelo:"
   ]
  },
  {
   "cell_type": "code",
   "execution_count": 1,
   "metadata": {},
   "outputs": [],
   "source": [
    "from sklearn.datasets import make_regression\n",
    "from matplotlib import pyplot as plt\n",
    "import numpy as np\n",
    "from sklearn.linear_model import Ridge"
   ]
  },
  {
   "cell_type": "markdown",
   "metadata": {},
   "source": [
    "Podemos usar o `scikit-learn` para gerar uma amostra de dados adequada para a regressão"
   ]
  },
  {
   "cell_type": "code",
   "execution_count": 2,
   "metadata": {},
   "outputs": [],
   "source": [
    "X, y, coefficients = make_regression(\n",
    "    n_samples=50,\n",
    "    n_features=1,\n",
    "    n_informative=1,\n",
    "    n_targets=1,\n",
    "    noise=5,\n",
    "    coef=True,\n",
    "    random_state=1\n",
    ")"
   ]
  },
  {
   "cell_type": "markdown",
   "metadata": {},
   "source": [
    "Agora, temos que definir o parâmetro **alpha**, que determina a \"força\" de regularização. Quanto maior for alpha, mais forte a regularização. Em outras palavras, quando o alpha é muito grande, o modelo será muito enviezado. Já quando alpha é 1, o modelo fica identico à regressão linear"
   ]
  },
  {
   "cell_type": "code",
   "execution_count": 3,
   "metadata": {},
   "outputs": [],
   "source": [
    "alpha = 1"
   ]
  },
  {
   "cell_type": "markdown",
   "metadata": {},
   "source": [
    "Agora, criamos a matriz identidade de mesma ordem da matriz X, vista nas equações préviamente "
   ]
  },
  {
   "cell_type": "code",
   "execution_count": 4,
   "metadata": {},
   "outputs": [],
   "source": [
    "n, m = X.shape\n",
    "I = np.identity(m)"
   ]
  },
  {
   "cell_type": "markdown",
   "metadata": {},
   "source": [
    "E finalmente, resolvemos a equação para w"
   ]
  },
  {
   "cell_type": "code",
   "execution_count": 5,
   "metadata": {},
   "outputs": [],
   "source": [
    "w = np.dot(np.dot(np.linalg.inv(np.dot(X.T, X) + alpha * I), X.T), y)"
   ]
  },
  {
   "cell_type": "markdown",
   "metadata": {},
   "source": [
    "comparando o valor de w com os coeficientes usados para gerar os dados, podemos ver que não possuem exatamente o mesmo valor"
   ]
  },
  {
   "cell_type": "code",
   "execution_count": 6,
   "metadata": {},
   "outputs": [
    {
     "data": {
      "text/plain": [
       "array([87.37153533])"
      ]
     },
     "execution_count": 6,
     "metadata": {},
     "output_type": "execute_result"
    }
   ],
   "source": [
    "w"
   ]
  },
  {
   "cell_type": "code",
   "execution_count": 7,
   "metadata": {},
   "outputs": [
    {
     "data": {
      "text/plain": [
       "array(90.34019153)"
      ]
     },
     "execution_count": 7,
     "metadata": {},
     "output_type": "execute_result"
    }
   ],
   "source": [
    "coefficients"
   ]
  },
  {
   "cell_type": "markdown",
   "metadata": {},
   "source": [
    "Olhando agora como a linha de regressão se encaixa nos dados:"
   ]
  },
  {
   "cell_type": "code",
   "execution_count": 9,
   "metadata": {},
   "outputs": [
    {
     "data": {
      "image/png": "[encoded data removed]",
      "text/plain": [
       "<Figure size 432x288 with 1 Axes>"
      ]
     },
     "metadata": {
      "needs_background": "light"
     },
     "output_type": "display_data"
    }
   ],
   "source": [
    "plt.scatter(X, y)\n",
    "plt.plot(X, w*X, c='red');"
   ]
  },
  {
   "cell_type": "markdown",
   "metadata": {},
   "source": [
    "Agora, vamos fazer a mesma coisa, mas usando a implementação da Ridge Regression via `scikit-learn`. \n",
    "\n",
    "Primeiro, criamos e treinamos uma instância da classe `Ridge`"
   ]
  },
  {
   "cell_type": "code",
   "execution_count": 10,
   "metadata": {},
   "outputs": [],
   "source": [
    "rr = Ridge(alpha=1)\n",
    "rr.fit(X, y)\n",
    "w = rr.coef_"
   ]
  },
  {
   "cell_type": "markdown",
   "metadata": {},
   "source": [
    "Mas assim w e, portanto, a linha de regressão fica identica a da regressão linear."
   ]
  },
  {
   "cell_type": "code",
   "execution_count": 11,
   "metadata": {},
   "outputs": [
    {
     "data": {
      "text/plain": [
       "array([87.39928165])"
      ]
     },
     "execution_count": 11,
     "metadata": {},
     "output_type": "execute_result"
    }
   ],
   "source": [
    "w"
   ]
  },
  {
   "cell_type": "code",
   "execution_count": 16,
   "metadata": {},
   "outputs": [
    {
     "data": {
      "image/png": "[encoded data removed]",
      "text/plain": [
       "<Figure size 432x288 with 1 Axes>"
      ]
     },
     "metadata": {
      "needs_background": "light"
     },
     "output_type": "display_data"
    }
   ],
   "source": [
    "plt.scatter(X, y)\n",
    "plt.plot(X, w*X, c='red');"
   ]
  },
  {
   "cell_type": "markdown",
   "metadata": {},
   "source": [
    "Vamos ver o que acontece se alterarmos o aplha para um numero maior"
   ]
  },
  {
   "cell_type": "code",
   "execution_count": 15,
   "metadata": {},
   "outputs": [
    {
     "data": {
      "image/png": "[encoded data removed]",
      "text/plain": [
       "<Figure size 432x288 with 1 Axes>"
      ]
     },
     "metadata": {
      "needs_background": "light"
     },
     "output_type": "display_data"
    }
   ],
   "source": [
    "rr = Ridge(alpha=10)\n",
    "rr.fit(X, y)\n",
    "w = rr.coef_[0]\n",
    "plt.scatter(X, y)\n",
    "plt.plot(X, w*X, c='red');"
   ]
  },
  {
   "cell_type": "markdown",
   "metadata": {},
   "source": [
    "Como podemos ver, a linha de regressão não é mais perfeitamente encaixada, em outras palavras, o modelo possui um viés maior do que quando o alpha era 1.\n",
    "\n",
    "Para notar melhor a diferença, vamos fazer com aplha sendo 100"
   ]
  },
  {
   "cell_type": "code",
   "execution_count": 17,
   "metadata": {},
   "outputs": [
    {
     "data": {
      "image/png": "[encoded data removed]",
      "text/plain": [
       "<Figure size 432x288 with 1 Axes>"
      ]
     },
     "metadata": {
      "needs_background": "light"
     },
     "output_type": "display_data"
    }
   ],
   "source": [
    "rr = Ridge(alpha=100)\n",
    "rr.fit(X, y)\n",
    "w = rr.coef_[0]\n",
    "plt.scatter(X, y)\n",
    "plt.plot(X, w*X, c='red');"
   ]
  },
  {
   "cell_type": "markdown",
   "metadata": {},
   "source": [
    "Quando alpha tende a infinito, a linha de regressão tende a uma média igual a 0, já que isso minimizaria a variância entre datasets diferentes"
   ]
  }
 ],
 "metadata": {
  "kernelspec": {
   "display_name": "Python 3",
   "language": "python",
   "name": "python3"
  },
  "language_info": {
   "codemirror_mode": {
    "name": "ipython",
    "version": 3
   },
   "file_extension": ".py",
   "mimetype": "text/x-python",
   "name": "python",
   "nbconvert_exporter": "python",
   "pygments_lexer": "ipython3",
   "version": "3.8.3"
  }
 },
 "nbformat": 4,
 "nbformat_minor": 4
}
